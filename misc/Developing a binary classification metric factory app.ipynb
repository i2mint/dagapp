{
 "cells": [
  {
   "cell_type": "markdown",
   "metadata": {
    "toc": true
   },
   "source": [
    "<h1>Table of Contents<span class=\"tocSkip\"></span></h1>\n",
    "<div class=\"toc\"><ul class=\"toc-item\"><li><span><a href=\"#The-DAG\" data-toc-modified-id=\"The-DAG-1\"><span class=\"toc-item-num\">1&nbsp;&nbsp;</span>The DAG</a></span></li><li><span><a href=\"#UI-needs\" data-toc-modified-id=\"UI-needs-2\"><span class=\"toc-item-num\">2&nbsp;&nbsp;</span>UI needs</a></span></li><li><span><a href=\"#Scrap\" data-toc-modified-id=\"Scrap-3\"><span class=\"toc-item-num\">3&nbsp;&nbsp;</span>Scrap</a></span></li></ul></div>"
   ]
  },
  {
   "cell_type": "markdown",
   "metadata": {},
   "source": [
    "We'd like to develop a web app that will help a user to make a domain-specific metric (DSM) to evaluate binary classifiers.\n",
    "\n",
    "Often, off-the-shelf metrics are used, such as accuracy, precision, recall, false-positive-rate, etc. \n",
    "\n",
    "The number these produce may not be directly interpretable in the domain they're being applied to. \n",
    "\n",
    "It can be helpful to see what false negative, false positive, etc. mean in the given context, \n",
    "and associate a value (penalty or reward) to these \n",
    "that reflects how much they contribute towards or contravene the actual objective of the classifier. \n",
    "\n",
    "If a COVID test turns out positive, what actions will be taken and what value do their consequences have depending on whether the positive test \n",
    "was true or false? Same question for true/false negative test results. Doing this valuation then allows us to produce a formula that\n",
    "evaluates the worth of a test that has more meaning that flat false positive and false negative rates. \n"
   ]
  },
  {
   "cell_type": "markdown",
   "metadata": {},
   "source": [
    "See this notebook if you want a tutorial on how we came to the DAG we'll use here."
   ]
  },
  {
   "cell_type": "markdown",
   "metadata": {},
   "source": [
    "# The DAG"
   ]
  },
  {
   "cell_type": "markdown",
   "metadata": {},
   "source": [
    "Below are some functions provided to a user\n",
    "to get from where they are (e.g. they have a model and some test data) \n",
    "to where they want to get to (e.g. getting a classifier_score)\n",
    "is nice.\n",
    "\n",
    "Making it clear on how to use these functions to get from A to B is also nice.\n",
    "This can be done through documentation, examples, and (Uncle Bob style) through careful function and variable naming."
   ]
  },
  {
   "cell_type": "code",
   "execution_count": 3,
   "metadata": {
    "ExecuteTime": {
     "end_time": "2021-07-30T12:14:49.491815Z",
     "start_time": "2021-07-30T12:14:49.461133Z"
    }
   },
   "outputs": [
    {
     "data": {
      "text/plain": [
       "array([False, False,  True,  True,  True,  True])"
      ]
     },
     "execution_count": 3,
     "metadata": {},
     "output_type": "execute_result"
    }
   ],
   "source": [
    "from collections import Counter\n",
    "import numpy as np\n",
    "\n",
    "\n",
    "def _aligned_items(a, b):\n",
    "    \"\"\"Yield (k, a_value, b_value) triples for all k that are both a key of a and of b\"\"\"\n",
    "    # reason for casting to dict is to make sure things like pd.Series use the right keys.\n",
    "    # could also use k in a.keys() etc. to solve this.\n",
    "    a = dict(a)\n",
    "    b = dict(b)\n",
    "    for k in a:\n",
    "        if k in b:\n",
    "            yield k, a[k], b[k]\n",
    "\n",
    "\n",
    "def _dot_product(a, b):\n",
    "    \"\"\"\n",
    "    >>> dot_product({'a': 1, 'b': 2, 'c': 3}, {'b': 4, 'c': -1, 'd': 'whatever'})\n",
    "    5\n",
    "    \"\"\"\n",
    "    return sum(ak * bk for _, ak, bk in _aligned_items(a, b))\n",
    "\n",
    "\n",
    "def classifier_score(confusion_count, confusion_value):\n",
    "    \"\"\"Compute a score for a classifier that produced the `confusion_count`, based on the given `confusion_value`.\n",
    "    Meant to be curried by fixing the confusion_value dict.\n",
    "\n",
    "    The function is purposely general -- it is not specific to binary classifier outcomes, or even any classifier outcomes. \n",
    "    It simply computes a normalized dot product, depending on the inputs keys to align values to multiply and \n",
    "    considering a missing key as an expression of a null value. \n",
    "    \"\"\"\n",
    "    return _dot_product(confusion_count, confusion_value) / sum(confusion_count.values())\n",
    "\n",
    "\n",
    "def confusion_count(prediction, truth):\n",
    "    \"\"\"Get a dict containing the counts of all combinations of predicction and corresponding truth values.\n",
    "    \n",
    "    >>> confusion_count(\n",
    "    ... [0, 0, 1, 0, 1, 1, 1], \n",
    "    ... [0, 0, 0, 1, 1, 1, 1]\n",
    "    ... )\n",
    "    Counter({(0, 0): 2, (1, 0): 1, (0, 1): 1, (1, 1): 3})\n",
    "    \"\"\"\n",
    "    return Counter(zip(prediction, truth))\n",
    "\n",
    "\n",
    "def prediction(predict_proba, threshold):\n",
    "    \"\"\"Get an array of predictions from thresholding the scores of predict_proba array.\n",
    "    \n",
    "    >>> prediction([0.3, 0.4, 0.5, 0.6, 0.7, 0.8], threshold=0.5)\n",
    "    array([False, False,  True,  True,  True,  True])\n",
    "\n",
    "    \"\"\"\n",
    "    return np.array(predict_proba) >= threshold\n",
    "\n",
    "\n",
    "def predict_proba(model, test_X):\n",
    "    \"\"\"Get the prediction_proba scores of a model given some test data\"\"\"\n",
    "    return model.predict_proba(test_X)\n"
   ]
  },
  {
   "cell_type": "markdown",
   "metadata": {},
   "source": [
    "Conveniently, if we use names of functions and arguments as we did above, these can be used to indicate how they all relate to each other. \n",
    "\n",
    "That is to say, we need nothing further to make a DAG."
   ]
  },
  {
   "cell_type": "code",
   "execution_count": 4,
   "metadata": {
    "ExecuteTime": {
     "end_time": "2021-07-30T12:20:28.767556Z",
     "start_time": "2021-07-30T12:20:28.406181Z"
    }
   },
   "outputs": [
    {
     "data": {
      "image/svg+xml": [
       "<?xml version=\"1.0\" encoding=\"UTF-8\" standalone=\"no\"?>\n",
       "<!DOCTYPE svg PUBLIC \"-//W3C//DTD SVG 1.1//EN\"\n",
       " \"http://www.w3.org/Graphics/SVG/1.1/DTD/svg11.dtd\">\n",
       "<!-- Generated by graphviz version 2.48.0 (20210717.1556)\n",
       " -->\n",
       "<!-- Pages: 1 -->\n",
       "<svg width=\"345pt\" height=\"620pt\"\n",
       " viewBox=\"0.00 0.00 344.50 620.00\" xmlns=\"http://www.w3.org/2000/svg\" xmlns:xlink=\"http://www.w3.org/1999/xlink\">\n",
       "<g id=\"graph0\" class=\"graph\" transform=\"scale(1 1) rotate(0) translate(4 616)\">\n",
       "<polygon fill=\"white\" stroke=\"transparent\" points=\"-4,4 -4,-616 340.5,-616 340.5,4 -4,4\"/>\n",
       "<!-- predict_proba -->\n",
       "<g id=\"node1\" class=\"node\">\n",
       "<title>predict_proba</title>\n",
       "<text text-anchor=\"middle\" x=\"273.5\" y=\"-446.3\" font-family=\"Times,serif\" font-size=\"14.00\">predict_proba</text>\n",
       "</g>\n",
       "<!-- prediction_ -->\n",
       "<g id=\"node6\" class=\"node\">\n",
       "<title>prediction_</title>\n",
       "<polygon fill=\"none\" stroke=\"black\" points=\"263.5,-396 183.5,-396 183.5,-360 263.5,-360 263.5,-396\"/>\n",
       "<text text-anchor=\"middle\" x=\"223.5\" y=\"-374.3\" font-family=\"Times,serif\" font-size=\"14.00\">prediction_</text>\n",
       "</g>\n",
       "<!-- predict_proba&#45;&gt;prediction_ -->\n",
       "<g id=\"edge5\" class=\"edge\">\n",
       "<title>predict_proba&#45;&gt;prediction_</title>\n",
       "<path fill=\"none\" stroke=\"black\" d=\"M261.14,-431.7C255.27,-423.47 248.13,-413.48 241.66,-404.42\"/>\n",
       "<polygon fill=\"black\" stroke=\"black\" points=\"244.38,-402.21 235.72,-396.1 238.68,-406.28 244.38,-402.21\"/>\n",
       "</g>\n",
       "<!-- predict_proba_ -->\n",
       "<g id=\"node2\" class=\"node\">\n",
       "<title>predict_proba_</title>\n",
       "<polygon fill=\"none\" stroke=\"black\" points=\"324,-540 223,-540 223,-504 324,-504 324,-540\"/>\n",
       "<text text-anchor=\"middle\" x=\"273.5\" y=\"-518.3\" font-family=\"Times,serif\" font-size=\"14.00\">predict_proba_</text>\n",
       "</g>\n",
       "<!-- predict_proba_&#45;&gt;predict_proba -->\n",
       "<g id=\"edge1\" class=\"edge\">\n",
       "<title>predict_proba_&#45;&gt;predict_proba</title>\n",
       "<path fill=\"none\" stroke=\"black\" d=\"M273.5,-503.7C273.5,-495.98 273.5,-486.71 273.5,-478.11\"/>\n",
       "<polygon fill=\"black\" stroke=\"black\" points=\"277,-478.1 273.5,-468.1 270,-478.1 277,-478.1\"/>\n",
       "</g>\n",
       "<!-- model -->\n",
       "<g id=\"node3\" class=\"node\">\n",
       "<title>model</title>\n",
       "<text text-anchor=\"middle\" x=\"237.5\" y=\"-590.3\" font-family=\"Times,serif\" font-size=\"14.00\">model</text>\n",
       "</g>\n",
       "<!-- model&#45;&gt;predict_proba_ -->\n",
       "<g id=\"edge2\" class=\"edge\">\n",
       "<title>model&#45;&gt;predict_proba_</title>\n",
       "<path fill=\"none\" stroke=\"black\" d=\"M246.4,-575.7C250.5,-567.73 255.45,-558.1 259.99,-549.26\"/>\n",
       "<polygon fill=\"black\" stroke=\"black\" points=\"263.24,-550.6 264.7,-540.1 257.02,-547.4 263.24,-550.6\"/>\n",
       "</g>\n",
       "<!-- test_X -->\n",
       "<g id=\"node4\" class=\"node\">\n",
       "<title>test_X</title>\n",
       "<text text-anchor=\"middle\" x=\"309.5\" y=\"-590.3\" font-family=\"Times,serif\" font-size=\"14.00\">test_X</text>\n",
       "</g>\n",
       "<!-- test_X&#45;&gt;predict_proba_ -->\n",
       "<g id=\"edge3\" class=\"edge\">\n",
       "<title>test_X&#45;&gt;predict_proba_</title>\n",
       "<path fill=\"none\" stroke=\"black\" d=\"M300.6,-575.7C296.5,-567.73 291.55,-558.1 287.01,-549.26\"/>\n",
       "<polygon fill=\"black\" stroke=\"black\" points=\"289.98,-547.4 282.3,-540.1 283.76,-550.6 289.98,-547.4\"/>\n",
       "</g>\n",
       "<!-- prediction -->\n",
       "<g id=\"node5\" class=\"node\">\n",
       "<title>prediction</title>\n",
       "<text text-anchor=\"middle\" x=\"223.5\" y=\"-302.3\" font-family=\"Times,serif\" font-size=\"14.00\">prediction</text>\n",
       "</g>\n",
       "<!-- confusion_count_ -->\n",
       "<g id=\"node9\" class=\"node\">\n",
       "<title>confusion_count_</title>\n",
       "<polygon fill=\"none\" stroke=\"black\" points=\"241,-252 124,-252 124,-216 241,-216 241,-252\"/>\n",
       "<text text-anchor=\"middle\" x=\"182.5\" y=\"-230.3\" font-family=\"Times,serif\" font-size=\"14.00\">confusion_count_</text>\n",
       "</g>\n",
       "<!-- prediction&#45;&gt;confusion_count_ -->\n",
       "<g id=\"edge8\" class=\"edge\">\n",
       "<title>prediction&#45;&gt;confusion_count_</title>\n",
       "<path fill=\"none\" stroke=\"black\" d=\"M213.37,-287.7C208.65,-279.64 202.94,-269.89 197.72,-260.98\"/>\n",
       "<polygon fill=\"black\" stroke=\"black\" points=\"200.59,-258.96 192.52,-252.1 194.55,-262.5 200.59,-258.96\"/>\n",
       "</g>\n",
       "<!-- prediction_&#45;&gt;prediction -->\n",
       "<g id=\"edge4\" class=\"edge\">\n",
       "<title>prediction_&#45;&gt;prediction</title>\n",
       "<path fill=\"none\" stroke=\"black\" d=\"M223.5,-359.7C223.5,-351.98 223.5,-342.71 223.5,-334.11\"/>\n",
       "<polygon fill=\"black\" stroke=\"black\" points=\"227,-334.1 223.5,-324.1 220,-334.1 227,-334.1\"/>\n",
       "</g>\n",
       "<!-- threshold -->\n",
       "<g id=\"node7\" class=\"node\">\n",
       "<title>threshold</title>\n",
       "<text text-anchor=\"middle\" x=\"173.5\" y=\"-446.3\" font-family=\"Times,serif\" font-size=\"14.00\">threshold</text>\n",
       "</g>\n",
       "<!-- threshold&#45;&gt;prediction_ -->\n",
       "<g id=\"edge6\" class=\"edge\">\n",
       "<title>threshold&#45;&gt;prediction_</title>\n",
       "<path fill=\"none\" stroke=\"black\" d=\"M185.86,-431.7C191.73,-423.47 198.87,-413.48 205.34,-404.42\"/>\n",
       "<polygon fill=\"black\" stroke=\"black\" points=\"208.32,-406.28 211.28,-396.1 202.62,-402.21 208.32,-406.28\"/>\n",
       "</g>\n",
       "<!-- confusion_count -->\n",
       "<g id=\"node8\" class=\"node\">\n",
       "<title>confusion_count</title>\n",
       "<text text-anchor=\"middle\" x=\"182.5\" y=\"-158.3\" font-family=\"Times,serif\" font-size=\"14.00\">confusion_count</text>\n",
       "</g>\n",
       "<!-- classifier_score_ -->\n",
       "<g id=\"node12\" class=\"node\">\n",
       "<title>classifier_score_</title>\n",
       "<polygon fill=\"none\" stroke=\"black\" points=\"173.5,-108 63.5,-108 63.5,-72 173.5,-72 173.5,-108\"/>\n",
       "<text text-anchor=\"middle\" x=\"118.5\" y=\"-86.3\" font-family=\"Times,serif\" font-size=\"14.00\">classifier_score_</text>\n",
       "</g>\n",
       "<!-- confusion_count&#45;&gt;classifier_score_ -->\n",
       "<g id=\"edge11\" class=\"edge\">\n",
       "<title>confusion_count&#45;&gt;classifier_score_</title>\n",
       "<path fill=\"none\" stroke=\"black\" d=\"M166.68,-143.7C158.93,-135.22 149.46,-124.86 140.98,-115.58\"/>\n",
       "<polygon fill=\"black\" stroke=\"black\" points=\"143.47,-113.12 134.14,-108.1 138.3,-117.85 143.47,-113.12\"/>\n",
       "</g>\n",
       "<!-- confusion_count_&#45;&gt;confusion_count -->\n",
       "<g id=\"edge7\" class=\"edge\">\n",
       "<title>confusion_count_&#45;&gt;confusion_count</title>\n",
       "<path fill=\"none\" stroke=\"black\" d=\"M182.5,-215.7C182.5,-207.98 182.5,-198.71 182.5,-190.11\"/>\n",
       "<polygon fill=\"black\" stroke=\"black\" points=\"186,-190.1 182.5,-180.1 179,-190.1 186,-190.1\"/>\n",
       "</g>\n",
       "<!-- truth -->\n",
       "<g id=\"node10\" class=\"node\">\n",
       "<title>truth</title>\n",
       "<text text-anchor=\"middle\" x=\"141.5\" y=\"-302.3\" font-family=\"Times,serif\" font-size=\"14.00\">truth</text>\n",
       "</g>\n",
       "<!-- truth&#45;&gt;confusion_count_ -->\n",
       "<g id=\"edge9\" class=\"edge\">\n",
       "<title>truth&#45;&gt;confusion_count_</title>\n",
       "<path fill=\"none\" stroke=\"black\" d=\"M151.63,-287.7C156.35,-279.64 162.06,-269.89 167.28,-260.98\"/>\n",
       "<polygon fill=\"black\" stroke=\"black\" points=\"170.45,-262.5 172.48,-252.1 164.41,-258.96 170.45,-262.5\"/>\n",
       "</g>\n",
       "<!-- classifier_score -->\n",
       "<g id=\"node11\" class=\"node\">\n",
       "<title>classifier_score</title>\n",
       "<text text-anchor=\"middle\" x=\"118.5\" y=\"-14.3\" font-family=\"Times,serif\" font-size=\"14.00\">classifier_score</text>\n",
       "</g>\n",
       "<!-- classifier_score_&#45;&gt;classifier_score -->\n",
       "<g id=\"edge10\" class=\"edge\">\n",
       "<title>classifier_score_&#45;&gt;classifier_score</title>\n",
       "<path fill=\"none\" stroke=\"black\" d=\"M118.5,-71.7C118.5,-63.98 118.5,-54.71 118.5,-46.11\"/>\n",
       "<polygon fill=\"black\" stroke=\"black\" points=\"122,-46.1 118.5,-36.1 115,-46.1 122,-46.1\"/>\n",
       "</g>\n",
       "<!-- confusion_value -->\n",
       "<g id=\"node13\" class=\"node\">\n",
       "<title>confusion_value</title>\n",
       "<text text-anchor=\"middle\" x=\"54.5\" y=\"-158.3\" font-family=\"Times,serif\" font-size=\"14.00\">confusion_value</text>\n",
       "</g>\n",
       "<!-- confusion_value&#45;&gt;classifier_score_ -->\n",
       "<g id=\"edge12\" class=\"edge\">\n",
       "<title>confusion_value&#45;&gt;classifier_score_</title>\n",
       "<path fill=\"none\" stroke=\"black\" d=\"M70.32,-143.7C78.07,-135.22 87.54,-124.86 96.02,-115.58\"/>\n",
       "<polygon fill=\"black\" stroke=\"black\" points=\"98.7,-117.85 102.86,-108.1 93.53,-113.12 98.7,-117.85\"/>\n",
       "</g>\n",
       "</g>\n",
       "</svg>\n"
      ],
      "text/plain": [
       "<graphviz.dot.Digraph at 0x105796550>"
      ]
     },
     "execution_count": 4,
     "metadata": {},
     "output_type": "execute_result"
    }
   ],
   "source": [
    "from meshed import DAG\n",
    "\n",
    "dag = DAG([classifier_score, confusion_count, prediction, predict_proba])\n",
    "dag.dot_digraph()"
   ]
  },
  {
   "cell_type": "markdown",
   "metadata": {},
   "source": [
    "# UI needs"
   ]
  },
  {
   "cell_type": "markdown",
   "metadata": {},
   "source": [
    "So we can use `dagapp` to make an app for this dag, but we'll run into a problem: How do we acquire inputs of complex objects from the user?"
   ]
  },
  {
   "cell_type": "markdown",
   "metadata": {},
   "source": [
    "Let's start with the `confusion_value` and `confusion_count`. These need to be mapping between some confusion key and a float. \n",
    "So we need to allow the user to enter multiple keys and values. \n",
    "- Restricting ourselves to binary cases, this means exactly four (though unspecified values can be interpreted as 0. \n",
    "- We can find a more general mechanism to allow an arbitrary mapping to be entered.\n",
    "- The values are floats, but the keys could be complicated. In the case of classification, the keys are actually all possible pairs of categories. \n",
    "- There could be a UI component specialized for getting pairs. A matrix makes sense."
   ]
  },
  {
   "cell_type": "markdown",
   "metadata": {},
   "source": [
    "To make the dag even more useful, we'll want to vectorize some of the inputs. Namely, we'd like to not enter only one threshold, but possibly a range of them. \n",
    "\n",
    "A UI mechanism to get arithmetic sequences would be in order here. Could be:\n",
    "- min, max, ?all_integers (-> [min, min+1, min+2, ..., max])\n",
    "- min, max, num_of_elements\n",
    "- min, max, step"
   ]
  },
  {
   "cell_type": "code",
   "execution_count": null,
   "metadata": {},
   "outputs": [],
   "source": []
  },
  {
   "cell_type": "markdown",
   "metadata": {},
   "source": [
    "# Scrap"
   ]
  },
  {
   "cell_type": "code",
   "execution_count": null,
   "metadata": {},
   "outputs": [],
   "source": []
  },
  {
   "cell_type": "code",
   "execution_count": null,
   "metadata": {},
   "outputs": [],
   "source": []
  },
  {
   "cell_type": "code",
   "execution_count": null,
   "metadata": {},
   "outputs": [],
   "source": []
  },
  {
   "cell_type": "code",
   "execution_count": null,
   "metadata": {},
   "outputs": [],
   "source": []
  },
  {
   "cell_type": "code",
   "execution_count": null,
   "metadata": {},
   "outputs": [],
   "source": []
  },
  {
   "cell_type": "code",
   "execution_count": null,
   "metadata": {},
   "outputs": [],
   "source": []
  },
  {
   "cell_type": "code",
   "execution_count": null,
   "metadata": {},
   "outputs": [],
   "source": []
  },
  {
   "cell_type": "code",
   "execution_count": null,
   "metadata": {},
   "outputs": [],
   "source": []
  },
  {
   "cell_type": "code",
   "execution_count": null,
   "metadata": {},
   "outputs": [],
   "source": []
  },
  {
   "cell_type": "code",
   "execution_count": null,
   "metadata": {},
   "outputs": [],
   "source": []
  },
  {
   "cell_type": "code",
   "execution_count": null,
   "metadata": {},
   "outputs": [],
   "source": []
  },
  {
   "cell_type": "code",
   "execution_count": null,
   "metadata": {},
   "outputs": [],
   "source": []
  }
 ],
 "metadata": {
  "kernelspec": {
   "display_name": "Python 3",
   "language": "python",
   "name": "python3"
  },
  "language_info": {
   "codemirror_mode": {
    "name": "ipython",
    "version": 3
   },
   "file_extension": ".py",
   "mimetype": "text/x-python",
   "name": "python",
   "nbconvert_exporter": "python",
   "pygments_lexer": "ipython3",
   "version": "3.8.6"
  },
  "latex_envs": {
   "LaTeX_envs_menu_present": true,
   "autoclose": false,
   "autocomplete": true,
   "bibliofile": "biblio.bib",
   "cite_by": "apalike",
   "current_citInitial": 1,
   "eqLabelWithNumbers": true,
   "eqNumInitial": 1,
   "hotkeys": {
    "equation": "Ctrl-E",
    "itemize": "Ctrl-I"
   },
   "labels_anchors": false,
   "latex_user_defs": false,
   "report_style_numbering": false,
   "user_envs_cfg": false
  },
  "toc": {
   "base_numbering": 1,
   "nav_menu": {},
   "number_sections": true,
   "sideBar": true,
   "skip_h1_title": false,
   "title_cell": "Table of Contents",
   "title_sidebar": "Contents",
   "toc_cell": true,
   "toc_position": {},
   "toc_section_display": true,
   "toc_window_display": true
  }
 },
 "nbformat": 4,
 "nbformat_minor": 4
}
